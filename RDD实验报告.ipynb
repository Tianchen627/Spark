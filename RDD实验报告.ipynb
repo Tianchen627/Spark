{
 "cells": [
  {
   "cell_type": "markdown",
   "metadata": {},
   "source": [
    "# RDD实验报告"
   ]
  },
  {
   "cell_type": "markdown",
   "metadata": {},
   "source": [
    "pyspark官方文档:http://spark.apache.org/docs/latest/api/python/"
   ]
  },
  {
   "cell_type": "markdown",
   "metadata": {},
   "source": [
    "## 1.RDD简介"
   ]
  },
  {
   "cell_type": "markdown",
   "metadata": {},
   "source": [
    "  Resilient Distributed Datasets，弹性分布式数据集分布在不同的集群节点的内存中。RDD就像一个数组,则数组的每一个元素就是RDD的一个分区,一个RDD可以分布并被运算在多态计算机节点的内存以及硬盘中。\n",
    "\n",
    "\n",
    "  RDD数据块可以放在磁盘上也可以放在内存中(取决于你的设置),如果出现缓冲失效或丢失,RDD分区可以重新计算刷新,RDD是不能被修改的(只读)但是可以通过API被变换生成新的RDD。\n",
    "\n",
    "                \n",
    "  它的运行原理和mapreduce是一样的,只是他们的运行方式不同,mr的运算是内存磁盘交互读写,不能在内存中共享数据,而RDD可以被共享和持久化.因为大数据运算经常是交互式和迭代式的,所以数据的重用性很重要,而mr的磁盘交互读写带来的I/O开销导致数度减慢。\n"
   ]
  },
  {
   "cell_type": "markdown",
   "metadata": {},
   "source": [
    "关于spark架构及工作流程推荐阅读:\n",
    "\n",
    "https://blog.csdn.net/zhumr/article/details/52518506\n",
    "\n",
    "http://dblab.xmu.edu.cn/blog/1709-2/"
   ]
  },
  {
   "cell_type": "markdown",
   "metadata": {},
   "source": [
    "pyspark里最核心的模块是SparkContext（简称sc）,最重要的数据载体是RDD。RDD就像一个NumPy array或者一个Pandas Series，可以视作一个有序的item集合。只不过这些item并不存在driver端的内存里，而是被分割成很多个partitions，每个partition的数据存在集群的executor的内存中。\n",
    "\n",
    "pyspark其实相当于spark应用的driver程序,当获得SparkContext object 即sc ,driver就可以访问spark了。**因此sc可以看成是driver对计算机集群的连接。**\n"
   ]
  },
  {
   "cell_type": "code",
   "execution_count": 1,
   "metadata": {
    "collapsed": true
   },
   "outputs": [],
   "source": [
    "from pyspark import SparkConf\n",
    "from pyspark.context import SparkContext\n",
    "sc = SparkContext.getOrCreate(SparkConf())"
   ]
  },
  {
   "cell_type": "markdown",
   "metadata": {},
   "source": [
    "注:\n",
    "1.如果直接from pyspark import SparkContext as sc 的话会报错，见 https://stackoverflow.com/questions/47665491/pyspark-throws-typeerror-textfile-missing-1-required-positional-argument-na\n",
    "\n",
    "2.安装的pyspark需要与spark版本匹配(spark需要与hadoop版本匹配)，见https://stackoverflow.com/questions/54988403/pyspark-method-isbarrier-does-not-exist"
   ]
  },
  {
   "cell_type": "code",
   "execution_count": 2,
   "metadata": {},
   "outputs": [
    {
     "data": {
      "text/plain": [
       "README.md MapPartitionsRDD[1] at textFile at NativeMethodAccessorImpl.java:0"
      ]
     },
     "execution_count": 2,
     "metadata": {},
     "output_type": "execute_result"
    }
   ],
   "source": [
    "lines = sc.textFile(\"README.md\")\n",
    "lines"
   ]
  },
  {
   "cell_type": "markdown",
   "metadata": {},
   "source": [
    "那么问题来了，这里的\"README.md\"是当前目录下的文件么?\n",
    "\n",
    "我们通过lines.first()或lines.collect()可以发现并不存在README.md这个文件，即lines创建的实例其实类似建立一个指针并没有真正载入。\n",
    "\n",
    "在定义RDD时，spark并没有将数据立即加入内存，而是了解完成整个操作链之后，只获取所需的数据即可。默认情况下，spark每次运行进行行动操作时，都会对RDD进行重新计算。\n",
    "\n",
    "为了后续作业，我们将spark目录下的\"README.md\"复制到当前目录，重命名为\"README0.md\"。如果你不知道当前目录os.getcwd()可以帮助你。"
   ]
  },
  {
   "cell_type": "code",
   "execution_count": 3,
   "metadata": {},
   "outputs": [
    {
     "data": {
      "text/plain": [
       "README0.md MapPartitionsRDD[3] at textFile at NativeMethodAccessorImpl.java:0"
      ]
     },
     "execution_count": 3,
     "metadata": {},
     "output_type": "execute_result"
    }
   ],
   "source": [
    "lines = sc.textFile(\"README0.md\")\n",
    "lines"
   ]
  },
  {
   "cell_type": "code",
   "execution_count": 4,
   "metadata": {},
   "outputs": [
    {
     "data": {
      "text/plain": [
       "'# Apache Spark'"
      ]
     },
     "execution_count": 4,
     "metadata": {},
     "output_type": "execute_result"
    }
   ],
   "source": [
    "lines.first()"
   ]
  },
  {
   "cell_type": "markdown",
   "metadata": {},
   "source": [
    "根据官方文档，在pyspark里RDD没有contains函数。思考了一下scala里的\n",
    "\n",
    "lines.filter(line => line.contains(\"Python\"))\n",
    "\n",
    "可以如下改写"
   ]
  },
  {
   "cell_type": "code",
   "execution_count": 5,
   "metadata": {},
   "outputs": [
    {
     "data": {
      "text/plain": [
       "PythonRDD[5] at RDD at PythonRDD.scala:52"
      ]
     },
     "execution_count": 5,
     "metadata": {},
     "output_type": "execute_result"
    }
   ],
   "source": [
    "pythonLines = lines.filter(lambda x:x.find(\"Python\")!=-1)\n",
    "pythonLines"
   ]
  },
  {
   "cell_type": "markdown",
   "metadata": {},
   "source": [
    "filter()是一个**转换操作**，转换已有的RDD实例lines，生成新的RDD实例pythonLines，在此过程中，spark并没有进行实际的计算，称为惰性计算，只有第一次在一个行动操作时，才会计算。"
   ]
  },
  {
   "cell_type": "code",
   "execution_count": 6,
   "metadata": {},
   "outputs": [
    {
     "data": {
      "text/plain": [
       "README0.md MapPartitionsRDD[3] at textFile at NativeMethodAccessorImpl.java:0"
      ]
     },
     "execution_count": 6,
     "metadata": {},
     "output_type": "execute_result"
    }
   ],
   "source": [
    "lines"
   ]
  },
  {
   "cell_type": "code",
   "execution_count": 7,
   "metadata": {},
   "outputs": [
    {
     "data": {
      "text/plain": [
       "PythonRDD[5] at RDD at PythonRDD.scala:52"
      ]
     },
     "execution_count": 7,
     "metadata": {},
     "output_type": "execute_result"
    }
   ],
   "source": [
    "pythonLines"
   ]
  },
  {
   "cell_type": "markdown",
   "metadata": {},
   "source": [
    "可以看到lines和pythonLines因为生成的方式不同，在内存中被标记为不同的RDD。"
   ]
  },
  {
   "cell_type": "code",
   "execution_count": 8,
   "metadata": {},
   "outputs": [
    {
     "data": {
      "text/plain": [
       "['high-level APIs in Scala, Java, Python, and R, and an optimized engine that',\n",
       " '## Interactive Python Shell',\n",
       " 'Alternatively, if you prefer Python, you can use the Python shell:']"
      ]
     },
     "execution_count": 8,
     "metadata": {},
     "output_type": "execute_result"
    }
   ],
   "source": [
    "pythonLines.collect()"
   ]
  },
  {
   "cell_type": "code",
   "execution_count": 9,
   "metadata": {},
   "outputs": [
    {
     "data": {
      "text/plain": [
       "PythonRDD[5] at RDD at PythonRDD.scala:52"
      ]
     },
     "execution_count": 9,
     "metadata": {},
     "output_type": "execute_result"
    }
   ],
   "source": [
    "pythonLines"
   ]
  },
  {
   "cell_type": "markdown",
   "metadata": {},
   "source": [
    "## 2.RDD创建"
   ]
  },
  {
   "cell_type": "markdown",
   "metadata": {},
   "source": [
    "有两种类型的RDD:\n",
    "\n",
    "       1. 并行集合:来自与分布式化的数据对象,比如我们上面的代码,python里面的list对象,再比如用户自己键入的数据\n",
    "\n",
    "        并行化RDD就是通过调用sc的parallelize方法,在一个已经存在的数据集合上创建的(一个Seq对象),集合的对象将会被拷贝,创建出一个可以被并行操作的分布式数据集,比如上面的代码,演示了如何python中的list创建一个并行集合,并进行分行。\n",
    "\n",
    "       2. 文件系统数据集读取数据\n",
    "\n",
    "        spark可以将任何hadoop所支持的存储资源转换称RDD,如本地文件(语言网络文件系统),索引的节点都必须能访问到,HDFS,mongodb,HBase,等。\n"
   ]
  },
  {
   "cell_type": "markdown",
   "metadata": {},
   "source": [
    "### 2.1parallelize()"
   ]
  },
  {
   "cell_type": "markdown",
   "metadata": {},
   "source": [
    "parallelize() 是创建RDD最简单的方法，通过程序中已有的数据集合来创建RDD。\n",
    "\n",
    "使用sc.parallelize可以把Python list，NumPy array或者Pandas Series,Pandas DataFrame转成Spark RDD。"
   ]
  },
  {
   "cell_type": "code",
   "execution_count": 10,
   "metadata": {},
   "outputs": [
    {
     "data": {
      "text/plain": [
       "ParallelCollectionRDD[6] at parallelize at PythonRDD.scala:194"
      ]
     },
     "execution_count": 10,
     "metadata": {},
     "output_type": "execute_result"
    }
   ],
   "source": [
    "List = [\"meituan\",\"dianping\"]\n",
    "lines = sc.parallelize(List)\n",
    "lines"
   ]
  },
  {
   "cell_type": "markdown",
   "metadata": {},
   "source": [
    "### 2.2textFile()"
   ]
  },
  {
   "cell_type": "markdown",
   "metadata": {},
   "source": [
    "textFile() 用于从一个文本文件中读入数据，并创建一个存储字符串的RDD。\n"
   ]
  },
  {
   "cell_type": "code",
   "execution_count": 11,
   "metadata": {},
   "outputs": [
    {
     "data": {
      "text/plain": [
       "log.txt MapPartitionsRDD[8] at textFile at NativeMethodAccessorImpl.java:0"
      ]
     },
     "execution_count": 11,
     "metadata": {},
     "output_type": "execute_result"
    }
   ],
   "source": [
    "inputRDD = sc.textFile(\"log.txt\")\n",
    "inputRDD"
   ]
  },
  {
   "cell_type": "markdown",
   "metadata": {},
   "source": [
    "文本的每一行都会被当做一个item。甚至可以sc.wholeTextFiles读入整个文件夹的所有文件。但是要特别注意，这种读法，RDD中的每个item实际上是一个形如(文件名，文件所有内容)的元组。读入整个文件夹的所有文件。"
   ]
  },
  {
   "cell_type": "code",
   "execution_count": 12,
   "metadata": {},
   "outputs": [
    {
     "data": {
      "text/plain": [
       "org.apache.spark.api.java.JavaPairRDD@649bdfee"
      ]
     },
     "execution_count": 12,
     "metadata": {},
     "output_type": "execute_result"
    }
   ],
   "source": [
    "import os\n",
    "cwd=os.getcwd()\n",
    "rdd = sc.wholeTextFiles(cwd)\n",
    "rdd"
   ]
  },
  {
   "cell_type": "code",
   "execution_count": 13,
   "metadata": {},
   "outputs": [
    {
     "data": {
      "text/plain": [
       "('file:/C:/Users/tianchen/Desktop/大数据/周平/RDD/log.txt',\n",
       " 'This is the first error.\\r\\nThis is the second error.\\r\\nTHis is the first warning.\\r\\nTHis is the second warning.\\r\\nTHis is nothing.\\r\\nTHis is the first error and warning.\\r\\n')"
      ]
     },
     "execution_count": 13,
     "metadata": {},
     "output_type": "execute_result"
    }
   ],
   "source": [
    "rdd.first()"
   ]
  },
  {
   "cell_type": "markdown",
   "metadata": {},
   "source": [
    "## 3.RDD操作"
   ]
  },
  {
   "cell_type": "markdown",
   "metadata": {},
   "source": [
    "有两类对RDD的操作:\n",
    "\n",
    "        1.转换操作(懒执行): 有 map flatMap groupByKey reduceByKey 等，他们只是将一些指令集而不会马上执行,需要有操作的时候才会真正计算出结果。简而言之通过一个RDD，生成一个新的RDD。\n",
    "\n",
    "        2.行动操作(立即执行): 有 count take collect 等，他们会返回结果,或者把RDD数据输出。简而言之对RDD计算出一个结果，将结果返回驱动程序或者写入外部存储设备（例如hdfs)。"
   ]
  },
  {
   "cell_type": "markdown",
   "metadata": {},
   "source": [
    "例:map操作"
   ]
  },
  {
   "cell_type": "code",
   "execution_count": 14,
   "metadata": {},
   "outputs": [
    {
     "data": {
      "text/plain": [
       "ParallelCollectionRDD[12] at parallelize at PythonRDD.scala:194"
      ]
     },
     "execution_count": 14,
     "metadata": {},
     "output_type": "execute_result"
    }
   ],
   "source": [
    "List = [1,2,3,4,5,6,7,8,9,10]\n",
    "listRDD = sc.parallelize(List)\n",
    "listRDD"
   ]
  },
  {
   "cell_type": "code",
   "execution_count": 15,
   "metadata": {},
   "outputs": [
    {
     "data": {
      "text/plain": [
       "PythonRDD[13] at RDD at PythonRDD.scala:52"
      ]
     },
     "execution_count": 15,
     "metadata": {},
     "output_type": "execute_result"
    }
   ],
   "source": [
    "retRDD = listRDD.map(lambda x:x*7)\n",
    "retRDD"
   ]
  },
  {
   "cell_type": "code",
   "execution_count": 16,
   "metadata": {},
   "outputs": [
    {
     "data": {
      "text/plain": [
       "[7, 14, 21, 28, 35, 42, 49, 56, 63, 70]"
      ]
     },
     "execution_count": 16,
     "metadata": {},
     "output_type": "execute_result"
    }
   ],
   "source": [
    "retRDD.collect()"
   ]
  },
  {
   "cell_type": "code",
   "execution_count": 17,
   "metadata": {},
   "outputs": [
    {
     "data": {
      "text/plain": [
       "PythonRDD[13] at RDD at PythonRDD.scala:52"
      ]
     },
     "execution_count": 17,
     "metadata": {},
     "output_type": "execute_result"
    }
   ],
   "source": [
    "retRDD"
   ]
  },
  {
   "cell_type": "markdown",
   "metadata": {},
   "source": [
    "### 3.1.1filter()"
   ]
  },
  {
   "cell_type": "markdown",
   "metadata": {},
   "source": [
    "接单元格 In  [11]"
   ]
  },
  {
   "cell_type": "code",
   "execution_count": 18,
   "metadata": {},
   "outputs": [
    {
     "data": {
      "text/plain": [
       "PythonRDD[14] at RDD at PythonRDD.scala:52"
      ]
     },
     "execution_count": 18,
     "metadata": {},
     "output_type": "execute_result"
    }
   ],
   "source": [
    "errorLines = inputRDD.filter(lambda x:x.find(\"error\")!=-1)\n",
    "errorLines"
   ]
  },
  {
   "cell_type": "code",
   "execution_count": 19,
   "metadata": {},
   "outputs": [
    {
     "data": {
      "text/plain": [
       "3"
      ]
     },
     "execution_count": 19,
     "metadata": {},
     "output_type": "execute_result"
    }
   ],
   "source": [
    "errorLines.count()"
   ]
  },
  {
   "cell_type": "code",
   "execution_count": 20,
   "metadata": {},
   "outputs": [
    {
     "data": {
      "text/plain": [
       "['This is the first error.',\n",
       " 'This is the second error.',\n",
       " 'THis is the first error and warning.']"
      ]
     },
     "execution_count": 20,
     "metadata": {},
     "output_type": "execute_result"
    }
   ],
   "source": [
    "errorLines.collect()"
   ]
  },
  {
   "cell_type": "code",
   "execution_count": 21,
   "metadata": {},
   "outputs": [
    {
     "data": {
      "text/plain": [
       "PythonRDD[14] at RDD at PythonRDD.scala:52"
      ]
     },
     "execution_count": 21,
     "metadata": {},
     "output_type": "execute_result"
    }
   ],
   "source": [
    "errorLines"
   ]
  },
  {
   "cell_type": "code",
   "execution_count": 22,
   "metadata": {},
   "outputs": [
    {
     "data": {
      "text/plain": [
       "PythonRDD[16] at RDD at PythonRDD.scala:52"
      ]
     },
     "execution_count": 22,
     "metadata": {},
     "output_type": "execute_result"
    }
   ],
   "source": [
    "retRDD = listRDD.filter(lambda x:x% 2 == 0)\n",
    "retRDD"
   ]
  },
  {
   "cell_type": "code",
   "execution_count": 23,
   "metadata": {},
   "outputs": [
    {
     "data": {
      "text/plain": [
       "[2, 4, 6, 8, 10]"
      ]
     },
     "execution_count": 23,
     "metadata": {},
     "output_type": "execute_result"
    }
   ],
   "source": [
    "retRDD.collect()"
   ]
  },
  {
   "cell_type": "code",
   "execution_count": 24,
   "metadata": {},
   "outputs": [
    {
     "data": {
      "text/plain": [
       "PythonRDD[16] at RDD at PythonRDD.scala:52"
      ]
     },
     "execution_count": 24,
     "metadata": {},
     "output_type": "execute_result"
    }
   ],
   "source": [
    "retRDD"
   ]
  },
  {
   "cell_type": "markdown",
   "metadata": {},
   "source": [
    "### 3.1.2union()"
   ]
  },
  {
   "cell_type": "markdown",
   "metadata": {},
   "source": [
    "union() 是另一个转换函数，可以合并两个RDD，合并后有重复元素,即并集。\n",
    "接单元格In  [11]"
   ]
  },
  {
   "cell_type": "code",
   "execution_count": 25,
   "metadata": {},
   "outputs": [
    {
     "data": {
      "text/plain": [
       "PythonRDD[17] at RDD at PythonRDD.scala:52"
      ]
     },
     "execution_count": 25,
     "metadata": {},
     "output_type": "execute_result"
    }
   ],
   "source": [
    "warningLines = inputRDD.filter(lambda x:x.find(\"warning\")!=-1)\n",
    "warningLines"
   ]
  },
  {
   "cell_type": "code",
   "execution_count": 26,
   "metadata": {},
   "outputs": [
    {
     "data": {
      "text/plain": [
       "['THis is the first warning.',\n",
       " 'THis is the second warning.',\n",
       " 'THis is the first error and warning.']"
      ]
     },
     "execution_count": 26,
     "metadata": {},
     "output_type": "execute_result"
    }
   ],
   "source": [
    "warningLines.collect()"
   ]
  },
  {
   "cell_type": "code",
   "execution_count": 27,
   "metadata": {},
   "outputs": [
    {
     "data": {
      "text/plain": [
       "PythonRDD[14] at RDD at PythonRDD.scala:52"
      ]
     },
     "execution_count": 27,
     "metadata": {},
     "output_type": "execute_result"
    }
   ],
   "source": [
    "errorLines"
   ]
  },
  {
   "cell_type": "code",
   "execution_count": 28,
   "metadata": {},
   "outputs": [
    {
     "data": {
      "text/plain": [
       "UnionRDD[18] at union at NativeMethodAccessorImpl.java:0"
      ]
     },
     "execution_count": 28,
     "metadata": {},
     "output_type": "execute_result"
    }
   ],
   "source": [
    "badLines = errorLines.union(warningLines)\n",
    "badLines"
   ]
  },
  {
   "cell_type": "code",
   "execution_count": 29,
   "metadata": {},
   "outputs": [
    {
     "data": {
      "text/plain": [
       "['This is the first error.',\n",
       " 'This is the second error.',\n",
       " 'THis is the first error and warning.',\n",
       " 'THis is the first warning.',\n",
       " 'THis is the second warning.',\n",
       " 'THis is the first error and warning.']"
      ]
     },
     "execution_count": 29,
     "metadata": {},
     "output_type": "execute_result"
    }
   ],
   "source": [
    "badLines.collect()"
   ]
  },
  {
   "cell_type": "markdown",
   "metadata": {},
   "source": [
    "可以看到结果中有重复元素"
   ]
  },
  {
   "cell_type": "code",
   "execution_count": 30,
   "metadata": {},
   "outputs": [
    {
     "data": {
      "text/plain": [
       "UnionRDD[18] at union at NativeMethodAccessorImpl.java:0"
      ]
     },
     "execution_count": 30,
     "metadata": {},
     "output_type": "execute_result"
    }
   ],
   "source": [
    "badLines"
   ]
  },
  {
   "cell_type": "markdown",
   "metadata": {},
   "source": [
    "### 3.2行动操作"
   ]
  },
  {
   "cell_type": "markdown",
   "metadata": {},
   "source": [
    "行动操作会将结果返回驱动程序，或者写入外部存储设备。注意：每调用一次新的行动操作，RDD都会重新计算，除非将中间结果持久化。"
   ]
  },
  {
   "cell_type": "markdown",
   "metadata": {},
   "source": [
    "### 3.2.1. count()"
   ]
  },
  {
   "cell_type": "markdown",
   "metadata": {},
   "source": [
    "见单元格In  [19]"
   ]
  },
  {
   "cell_type": "markdown",
   "metadata": {},
   "source": [
    "### 3.2.2. first()"
   ]
  },
  {
   "cell_type": "markdown",
   "metadata": {},
   "source": [
    "见单元格In  [4]"
   ]
  },
  {
   "cell_type": "markdown",
   "metadata": {},
   "source": [
    "### 3.2.3. take()"
   ]
  },
  {
   "cell_type": "code",
   "execution_count": 31,
   "metadata": {},
   "outputs": [
    {
     "data": {
      "text/plain": [
       "PythonRDD[14] at RDD at PythonRDD.scala:52"
      ]
     },
     "execution_count": 31,
     "metadata": {},
     "output_type": "execute_result"
    }
   ],
   "source": [
    "errorLines"
   ]
  },
  {
   "cell_type": "code",
   "execution_count": 32,
   "metadata": {},
   "outputs": [
    {
     "data": {
      "text/plain": [
       "['This is the first error.',\n",
       " 'This is the second error.',\n",
       " 'THis is the first error and warning.']"
      ]
     },
     "execution_count": 32,
     "metadata": {},
     "output_type": "execute_result"
    }
   ],
   "source": [
    "errorLines.collect()"
   ]
  },
  {
   "cell_type": "code",
   "execution_count": 33,
   "metadata": {},
   "outputs": [
    {
     "data": {
      "text/plain": [
       "['This is the first error.', 'This is the second error.']"
      ]
     },
     "execution_count": 33,
     "metadata": {},
     "output_type": "execute_result"
    }
   ],
   "source": [
    "errorLines.take(2)"
   ]
  },
  {
   "cell_type": "code",
   "execution_count": 34,
   "metadata": {},
   "outputs": [
    {
     "data": {
      "text/plain": [
       "list"
      ]
     },
     "execution_count": 34,
     "metadata": {},
     "output_type": "execute_result"
    }
   ],
   "source": [
    "type(errorLines.take(2))"
   ]
  },
  {
   "cell_type": "markdown",
   "metadata": {},
   "source": [
    "### 3.2.4. collect()"
   ]
  },
  {
   "cell_type": "markdown",
   "metadata": {},
   "source": [
    "见单元格In  [8]"
   ]
  },
  {
   "cell_type": "markdown",
   "metadata": {},
   "source": [
    "### 3.3. 惰性求值"
   ]
  },
  {
   "cell_type": "markdown",
   "metadata": {},
   "source": [
    "惰性求值是指转化操作并没有立即执行，类似sc.textFile() 这样的读操作也是惰性的。实际上，我们应该把RDD看成通过转化操作构建出来的、记录如何进行计算的指令集。"
   ]
  },
  {
   "cell_type": "markdown",
   "metadata": {},
   "source": [
    "## 4. 常见的RDD转化操作"
   ]
  },
  {
   "cell_type": "markdown",
   "metadata": {},
   "source": [
    "### 4.1 map()"
   ]
  },
  {
   "cell_type": "markdown",
   "metadata": {},
   "source": [
    "见单元格In  [15]"
   ]
  },
  {
   "cell_type": "markdown",
   "metadata": {},
   "source": [
    "### 4.2. filter()"
   ]
  },
  {
   "cell_type": "markdown",
   "metadata": {},
   "source": [
    "见单元格In  [11]"
   ]
  },
  {
   "cell_type": "markdown",
   "metadata": {},
   "source": [
    "### 4.3. flatMap()"
   ]
  },
  {
   "cell_type": "markdown",
   "metadata": {},
   "source": [
    "flatMap() 接收一个函数作为参数，该函数将每个元素转为一个列表，最终flatMap()并不是返回由上述列表作为元素组成的RDD，而是返回一个包含每个列表所有元素的RDD。"
   ]
  },
  {
   "cell_type": "code",
   "execution_count": 35,
   "metadata": {},
   "outputs": [
    {
     "data": {
      "text/plain": [
       "ParallelCollectionRDD[21] at parallelize at PythonRDD.scala:194"
      ]
     },
     "execution_count": 35,
     "metadata": {},
     "output_type": "execute_result"
    }
   ],
   "source": [
    "lines = sc.parallelize([\"hello world\", \"hello spark\"])\n",
    "lines"
   ]
  },
  {
   "cell_type": "code",
   "execution_count": 36,
   "metadata": {},
   "outputs": [
    {
     "data": {
      "text/plain": [
       "PythonRDD[22] at RDD at PythonRDD.scala:52"
      ]
     },
     "execution_count": 36,
     "metadata": {},
     "output_type": "execute_result"
    }
   ],
   "source": [
    "tem = lines.flatMap(lambda x:x.split(\" \"))\n",
    "tem"
   ]
  },
  {
   "cell_type": "code",
   "execution_count": 37,
   "metadata": {},
   "outputs": [
    {
     "data": {
      "text/plain": [
       "['hello', 'world', 'hello', 'spark']"
      ]
     },
     "execution_count": 37,
     "metadata": {},
     "output_type": "execute_result"
    }
   ],
   "source": [
    "tem.collect()"
   ]
  },
  {
   "cell_type": "code",
   "execution_count": 38,
   "metadata": {},
   "outputs": [
    {
     "data": {
      "text/plain": [
       "PythonRDD[22] at RDD at PythonRDD.scala:52"
      ]
     },
     "execution_count": 38,
     "metadata": {},
     "output_type": "execute_result"
    }
   ],
   "source": [
    "tem"
   ]
  },
  {
   "cell_type": "code",
   "execution_count": 39,
   "metadata": {},
   "outputs": [
    {
     "data": {
      "text/plain": [
       "PythonRDD[23] at RDD at PythonRDD.scala:52"
      ]
     },
     "execution_count": 39,
     "metadata": {},
     "output_type": "execute_result"
    }
   ],
   "source": [
    "tem = lines.map(lambda x:x.split(\" \"))\n",
    "tem"
   ]
  },
  {
   "cell_type": "code",
   "execution_count": 40,
   "metadata": {},
   "outputs": [
    {
     "data": {
      "text/plain": [
       "[['hello', 'world'], ['hello', 'spark']]"
      ]
     },
     "execution_count": 40,
     "metadata": {},
     "output_type": "execute_result"
    }
   ],
   "source": [
    "tem.collect()"
   ]
  },
  {
   "cell_type": "markdown",
   "metadata": {},
   "source": [
    "以上可见flatMap和map区别。"
   ]
  },
  {
   "cell_type": "markdown",
   "metadata": {},
   "source": [
    "### 4.4.1. distinct()"
   ]
  },
  {
   "cell_type": "markdown",
   "metadata": {},
   "source": [
    "distinct() 函数可以去除RDD中的重复元素。但该操作需要在全网范围内进行混洗，操作开销较大"
   ]
  },
  {
   "cell_type": "code",
   "execution_count": 41,
   "metadata": {
    "collapsed": true
   },
   "outputs": [],
   "source": [
    "data1 = sc.parallelize([1, 2, 3, 3])\n",
    "data2 = sc.parallelize([2, 2, 3, 4, 4, 5])"
   ]
  },
  {
   "cell_type": "code",
   "execution_count": 42,
   "metadata": {},
   "outputs": [
    {
     "data": {
      "text/plain": [
       "[1, 2, 3]"
      ]
     },
     "execution_count": 42,
     "metadata": {},
     "output_type": "execute_result"
    }
   ],
   "source": [
    "data1.distinct().collect()"
   ]
  },
  {
   "cell_type": "markdown",
   "metadata": {},
   "source": [
    "### 4.4.2. union()"
   ]
  },
  {
   "cell_type": "markdown",
   "metadata": {},
   "source": [
    "见单元格In  [28]"
   ]
  },
  {
   "cell_type": "markdown",
   "metadata": {},
   "source": [
    "###  4.4.3. 伪集合操作之intersection()"
   ]
  },
  {
   "cell_type": "markdown",
   "metadata": {},
   "source": [
    "intersection() 函数用于求两个RDD中都有的元素，即求交集。注意：该函数会去掉重复的元素，单个RDD中的重复元素也会删除，因此需要数据混洗。"
   ]
  },
  {
   "cell_type": "code",
   "execution_count": 43,
   "metadata": {},
   "outputs": [
    {
     "data": {
      "text/plain": [
       "[2, 3]"
      ]
     },
     "execution_count": 43,
     "metadata": {},
     "output_type": "execute_result"
    }
   ],
   "source": [
    "data1.intersection(data2).collect()"
   ]
  },
  {
   "cell_type": "markdown",
   "metadata": {},
   "source": [
    "###  4.4.4. 伪集合操作之substract()"
   ]
  },
  {
   "cell_type": "markdown",
   "metadata": {},
   "source": [
    "substract() 用于求位于第一个RDD中而不位于第二个RDD中的元素，即求差集。注意：该函数会混洗、去重。"
   ]
  },
  {
   "cell_type": "markdown",
   "metadata": {},
   "source": [
    "### 4.4.5. 伪集合操作之cartesian()"
   ]
  },
  {
   "cell_type": "markdown",
   "metadata": {},
   "source": [
    "cartesian() 函数返回所有可能的(a, b)对，其中，a来自第一个RDD，b来自第二个RDD，即求笛卡尔乘积."
   ]
  },
  {
   "cell_type": "code",
   "execution_count": 44,
   "metadata": {},
   "outputs": [
    {
     "data": {
      "text/plain": [
       "[(1, 2),\n",
       " (1, 2),\n",
       " (1, 3),\n",
       " (1, 4),\n",
       " (1, 4),\n",
       " (1, 5),\n",
       " (2, 2),\n",
       " (2, 2),\n",
       " (2, 3),\n",
       " (2, 4),\n",
       " (2, 4),\n",
       " (2, 5),\n",
       " (3, 2),\n",
       " (3, 2),\n",
       " (3, 3),\n",
       " (3, 4),\n",
       " (3, 4),\n",
       " (3, 5),\n",
       " (3, 2),\n",
       " (3, 2),\n",
       " (3, 3),\n",
       " (3, 4),\n",
       " (3, 4),\n",
       " (3, 5)]"
      ]
     },
     "execution_count": 44,
     "metadata": {},
     "output_type": "execute_result"
    }
   ],
   "source": [
    "data1.cartesian(data2).collect()"
   ]
  },
  {
   "cell_type": "markdown",
   "metadata": {},
   "source": [
    "## 5. 常见的RDD行动操作"
   ]
  },
  {
   "cell_type": "markdown",
   "metadata": {},
   "source": [
    "### 5.1. reduce() 函数 "
   ]
  },
  {
   "cell_type": "markdown",
   "metadata": {},
   "source": [
    "reduce() 接收一个函数作为参数，该函数以两个相同类型的元素作为输入，并返回一个同类型的元素，用于求和等。"
   ]
  },
  {
   "cell_type": "code",
   "execution_count": 45,
   "metadata": {},
   "outputs": [
    {
     "data": {
      "text/plain": [
       "ParallelCollectionRDD[40] at parallelize at PythonRDD.scala:194"
      ]
     },
     "execution_count": 45,
     "metadata": {},
     "output_type": "execute_result"
    }
   ],
   "source": [
    "data = sc.parallelize([1, 2, 3, 4])\n",
    "data"
   ]
  },
  {
   "cell_type": "code",
   "execution_count": 46,
   "metadata": {},
   "outputs": [
    {
     "data": {
      "text/plain": [
       "10"
      ]
     },
     "execution_count": 46,
     "metadata": {},
     "output_type": "execute_result"
    }
   ],
   "source": [
    "sum = data.reduce(lambda x, y : int(x) + int(y))\n",
    "sum"
   ]
  },
  {
   "cell_type": "code",
   "execution_count": 47,
   "metadata": {},
   "outputs": [
    {
     "data": {
      "text/plain": [
       "int"
      ]
     },
     "execution_count": 47,
     "metadata": {},
     "output_type": "execute_result"
    }
   ],
   "source": [
    "type(sum)"
   ]
  },
  {
   "cell_type": "markdown",
   "metadata": {},
   "source": [
    "### 5.2. fold() 函数 "
   ]
  },
  {
   "cell_type": "markdown",
   "metadata": {},
   "source": [
    "fold() 接收一个与reduce() 接收的函数签名相同的函数，再加上一个“初始值”来作为每个分区第一次调用的结果。"
   ]
  },
  {
   "cell_type": "code",
   "execution_count": 48,
   "metadata": {},
   "outputs": [
    {
     "data": {
      "text/plain": [
       "23"
      ]
     },
     "execution_count": 48,
     "metadata": {},
     "output_type": "execute_result"
    }
   ],
   "source": [
    "from operator import add\n",
    "sum = data.fold(1, add)\n",
    "sum"
   ]
  },
  {
   "cell_type": "code",
   "execution_count": 49,
   "metadata": {},
   "outputs": [
    {
     "data": {
      "text/plain": [
       "ParallelCollectionRDD[43] at parallelize at PythonRDD.scala:194"
      ]
     },
     "execution_count": 49,
     "metadata": {},
     "output_type": "execute_result"
    }
   ],
   "source": [
    "data = sc.parallelize([1, 2, 3, 4],2)\n",
    "data"
   ]
  },
  {
   "cell_type": "code",
   "execution_count": 50,
   "metadata": {},
   "outputs": [
    {
     "data": {
      "text/plain": [
       "[[1, 2], [3, 4]]"
      ]
     },
     "execution_count": 50,
     "metadata": {},
     "output_type": "execute_result"
    }
   ],
   "source": [
    "data.glom().collect()"
   ]
  },
  {
   "cell_type": "code",
   "execution_count": 51,
   "metadata": {},
   "outputs": [
    {
     "data": {
      "text/plain": [
       "13"
      ]
     },
     "execution_count": 51,
     "metadata": {},
     "output_type": "execute_result"
    }
   ],
   "source": [
    "sum = data.fold(1, add)\n",
    "sum"
   ]
  },
  {
   "cell_type": "code",
   "execution_count": 52,
   "metadata": {},
   "outputs": [
    {
     "data": {
      "text/plain": [
       "16"
      ]
     },
     "execution_count": 52,
     "metadata": {},
     "output_type": "execute_result"
    }
   ],
   "source": [
    "sum = data.fold(2, add)\n",
    "sum"
   ]
  },
  {
   "cell_type": "code",
   "execution_count": 53,
   "metadata": {},
   "outputs": [
    {
     "data": {
      "text/plain": [
       "ParallelCollectionRDD[47] at parallelize at PythonRDD.scala:194"
      ]
     },
     "execution_count": 53,
     "metadata": {},
     "output_type": "execute_result"
    }
   ],
   "source": [
    "data = sc.parallelize([1, 2, 3, 4],3)\n",
    "data"
   ]
  },
  {
   "cell_type": "code",
   "execution_count": 54,
   "metadata": {},
   "outputs": [
    {
     "data": {
      "text/plain": [
       "[[1], [2], [3, 4]]"
      ]
     },
     "execution_count": 54,
     "metadata": {},
     "output_type": "execute_result"
    }
   ],
   "source": [
    "data.glom().collect()"
   ]
  },
  {
   "cell_type": "code",
   "execution_count": 55,
   "metadata": {},
   "outputs": [
    {
     "data": {
      "text/plain": [
       "14"
      ]
     },
     "execution_count": 55,
     "metadata": {},
     "output_type": "execute_result"
    }
   ],
   "source": [
    "sum = data.fold(1, add)\n",
    "sum"
   ]
  },
  {
   "cell_type": "code",
   "execution_count": 56,
   "metadata": {},
   "outputs": [
    {
     "data": {
      "text/plain": [
       "18"
      ]
     },
     "execution_count": 56,
     "metadata": {},
     "output_type": "execute_result"
    }
   ],
   "source": [
    "sum = data.fold(2, add)\n",
    "sum"
   ]
  },
  {
   "cell_type": "code",
   "execution_count": 57,
   "metadata": {},
   "outputs": [
    {
     "data": {
      "text/plain": [
       "ParallelCollectionRDD[51] at parallelize at PythonRDD.scala:194"
      ]
     },
     "execution_count": 57,
     "metadata": {},
     "output_type": "execute_result"
    }
   ],
   "source": [
    "data = sc.parallelize([1, 2, 3, 4],5)\n",
    "data"
   ]
  },
  {
   "cell_type": "code",
   "execution_count": 58,
   "metadata": {},
   "outputs": [
    {
     "data": {
      "text/plain": [
       "[[], [1], [2], [3], [4]]"
      ]
     },
     "execution_count": 58,
     "metadata": {},
     "output_type": "execute_result"
    }
   ],
   "source": [
    "data.glom().collect()"
   ]
  },
  {
   "cell_type": "code",
   "execution_count": 59,
   "metadata": {},
   "outputs": [
    {
     "data": {
      "text/plain": [
       "16"
      ]
     },
     "execution_count": 59,
     "metadata": {},
     "output_type": "execute_result"
    }
   ],
   "source": [
    "sum = data.fold(1, add)\n",
    "sum"
   ]
  },
  {
   "cell_type": "code",
   "execution_count": 60,
   "metadata": {},
   "outputs": [
    {
     "data": {
      "text/plain": [
       "22"
      ]
     },
     "execution_count": 60,
     "metadata": {},
     "output_type": "execute_result"
    }
   ],
   "source": [
    "sum = data.fold(2, add)\n",
    "sum"
   ]
  },
  {
   "cell_type": "code",
   "execution_count": 61,
   "metadata": {},
   "outputs": [
    {
     "data": {
      "text/plain": [
       "28"
      ]
     },
     "execution_count": 61,
     "metadata": {},
     "output_type": "execute_result"
    }
   ],
   "source": [
    "sum = data.fold(3, add)\n",
    "sum"
   ]
  },
  {
   "cell_type": "markdown",
   "metadata": {},
   "source": [
    "根据以上可以看出几个规律，\n",
    "       \n",
    "       一是fold得到的值和分区数有关，并且每个分区都会加上初始值并且最终求和时候会再加一次初始值。如上行代码28=5*3+1+2+3+4+3。\n",
    "         \n",
    "       二是如果不设置分区数，系统默认会安排23-10-1=12个分区，碰巧当前设备就是12核cpu。\n",
    "       \n",
    " \n",
    " 关于pyspark中fold()函数的源码及讨论，见:\n",
    " \n",
    " http://spark.apache.org/docs/latest/api/python/_modules/pyspark/rdd.html#RDD.fold\n",
    " \n",
    " https://stackoverflow.com/questions/29150202/pyspark-fold-method-output\n",
    "        \n"
   ]
  },
  {
   "cell_type": "markdown",
   "metadata": {},
   "source": [
    "### 5.2. aggregate() 函数"
   ]
  },
  {
   "cell_type": "markdown",
   "metadata": {},
   "source": [
    "aggregate与fold相似又很不同。\n",
    "seqOp操作会聚合各分区中的元素，然后combOp操作把所有分区的聚合结果再次聚合，两个操作的初始值都是zeroValue. seqOp的操作是遍历分区中的所有元素(T)，zeroValue跟第一个T做操作，结果再作为与第二个T做操作，直到遍历完整个分区。combOp操作是把各分区聚合的结果，再聚合,zeroValue与第一个分区结果聚合，聚合结果相当于新的zeroValue，再与第二个分区结果聚合，一直进行下去。aggregate函数返回一个跟RDD不同类型的值。因此，需要一个操作seqOp来把分区中的元素T合并成一个U，另外一个操作combOp把所有U聚合。"
   ]
  },
  {
   "cell_type": "code",
   "execution_count": 62,
   "metadata": {},
   "outputs": [
    {
     "name": "stdout",
     "output_type": "stream",
     "text": [
      "(24, 12)\n"
     ]
    }
   ],
   "source": [
    "seqOp=(lambda x,y:(x[0]+y,x[1]+1))\n",
    "combOp=(lambda x,y:(x[0]+y[0],x[1]+y[1]))\n",
    "x=sc.parallelize([1,2,3,4,5,6],2)\n",
    "y=x.aggregate((1,2),seqOp,combOp)\n",
    "print(y)"
   ]
  },
  {
   "cell_type": "markdown",
   "metadata": {},
   "source": [
    "seqOp的操作是遍历分区中的所有元素(T):\n",
    "\n",
    "在分区[1，2，3]中，zeroValue跟第一个T做操作:zeroValue:x[0]=1,x[1]=2;   T:y=1;    (1,2) -> (1+1，2+1) -> (2,3)\n",
    " \n",
    "            结果再作为与第二个T做操作:zeroValue:x[0]=2,x[1]=3;   T:y=2,    (2,3)->  (2+2,3+1)  -> (4,4) \n",
    "            \n",
    "            结果再作为与第三个T做操作:zeroValue:x[0]=4,x[1]=4;   T:y=3,    (4,4)->  (4+3,4+1)  -> (7,5) \n",
    "\n",
    "在分区[4，5，6]中，zeroValue跟第一个T做操作:zeroValue:x[0]=1,x[1]=2;   T:y=4;    (1,2) -> (1+4，2+1) -> (5,3)\n",
    " \n",
    "            结果再作为与第二个T做操作:zeroValue:x[0]=5,x[1]=3;   T:y=5,    (5,3)->  (5+5,3+1)  -> (10,4) \n",
    "            \n",
    "            结果再作为与第三个T做操作:zeroValue:x[0]=10,x[1]=4;   T:y=6,   (10,4)-> (10+6,4+1) -> (16,5) \n",
    "            \n",
    "combOp操作是把各分区聚合,,zeroValue与第一个分区结果聚合，聚合结果相当于新的zeroValue:\n",
    "\n",
    "            zeroValue:x[0]=1,x[1]=2;第一分区结果(7,5)，y[0]=7，y[1]=5。\n",
    "            \n",
    "            (1,2) -> (1+7,2+5) -> (8，7)\n",
    "            \n",
    "            再与第二个分区结果聚合:\n",
    "            \n",
    "            zeroValue:x[0]=8,x[1]=7;第二分区结果(16,5)，y[0]=16，y[1]=5。\n",
    "            \n",
    "            (8,7) -> (8+16,7+5) -> (24，12)\n",
    "            "
   ]
  },
  {
   "cell_type": "markdown",
   "metadata": {},
   "source": [
    "## RDD练习"
   ]
  },
  {
   "cell_type": "markdown",
   "metadata": {},
   "source": [
    "### 1.flatMap"
   ]
  },
  {
   "cell_type": "code",
   "execution_count": 63,
   "metadata": {},
   "outputs": [
    {
     "name": "stdout",
     "output_type": "stream",
     "text": [
      "hello\n",
      "you\n",
      "hello\n",
      "he\n",
      "hello\n",
      "me\n"
     ]
    }
   ],
   "source": [
    "List = [\"hello you\", \"hello he\", \"hello me\"]\n",
    "listRDD = sc.parallelize(List)\n",
    "wordsRDD = listRDD.flatMap(lambda x:x.split(\" \"))\n",
    "for i in wordsRDD.collect():print(i)"
   ]
  },
  {
   "cell_type": "markdown",
   "metadata": {},
   "source": [
    "### 2.sample"
   ]
  },
  {
   "cell_type": "code",
   "execution_count": 64,
   "metadata": {},
   "outputs": [
    {
     "name": "stdout",
     "output_type": "stream",
     "text": [
      "sampleRDD count: 25\n",
      "Another sampleRDD count: 18\n"
     ]
    }
   ],
   "source": [
    "List=range(1,101)\n",
    "listRDD = sc.parallelize(List)\n",
    "sampleRDD = listRDD.sample(False, 0.2)\n",
    "print(\"sampleRDD count: \" + str(sampleRDD.count()))\n",
    "print(\"Another sampleRDD count: \" + str(sc.parallelize(List).sample(False, 0.2).count()))\n"
   ]
  },
  {
   "cell_type": "markdown",
   "metadata": {},
   "source": [
    "### 3.union"
   ]
  },
  {
   "cell_type": "code",
   "execution_count": 65,
   "metadata": {},
   "outputs": [
    {
     "name": "stdout",
     "output_type": "stream",
     "text": [
      "1\n",
      "2\n",
      "3\n",
      "4\n",
      "5\n",
      "6\n",
      "7\n",
      "8\n",
      "9\n",
      "10\n",
      "7\n",
      "8\n",
      "9\n",
      "10\n",
      "11\n",
      "12\n"
     ]
    }
   ],
   "source": [
    "list1 = [1, 2, 3, 4, 5, 6, 7, 8, 9, 10]\n",
    "list2 = [7, 8, 9, 10, 11, 12]\n",
    "listRDD1 = sc.parallelize(list1)\n",
    "listRDD2 = sc.parallelize(list2)\n",
    "unionRDD = listRDD1.union(listRDD2)\n",
    "for i in unionRDD.collect():print(i)"
   ]
  },
  {
   "cell_type": "markdown",
   "metadata": {},
   "source": [
    "### 4.groupByKey"
   ]
  },
  {
   "cell_type": "code",
   "execution_count": 66,
   "metadata": {},
   "outputs": [
    {
     "name": "stdout",
     "output_type": "stream",
     "text": [
      "('hello', 1)\n",
      "('you', 1)\n",
      "('hello', 1)\n",
      "('he', 1)\n",
      "('hello', 1)\n",
      "('me', 1)\n",
      "=============================================\n",
      "hello...<pyspark.resultiterable.ResultIterable object at 0x00000169CC6F8B38>\n",
      "you...<pyspark.resultiterable.ResultIterable object at 0x00000169CC6F8588>\n",
      "he...<pyspark.resultiterable.ResultIterable object at 0x00000169CC6F8470>\n",
      "me...<pyspark.resultiterable.ResultIterable object at 0x00000169CC6F8DD8>\n"
     ]
    }
   ],
   "source": [
    "List = [\"hello you\", \"hello he\", \"hello me\"]\n",
    "listRDD = sc.parallelize(List)\n",
    "wordsRDD = listRDD.flatMap(lambda x:x.split(\" \"))\n",
    "pairsRDD = wordsRDD.map(lambda x: (x, 1))\n",
    "for i in pairsRDD.collect():print(i)\n",
    "gbkRDD= pairsRDD.groupByKey()\n",
    "print(\"=============================================\")\n",
    "for i in gbkRDD.collect():print(str(i[0])+\"...\"+str(i[1]))"
   ]
  },
  {
   "cell_type": "markdown",
   "metadata": {},
   "source": [
    "### 5.reduceByKey"
   ]
  },
  {
   "cell_type": "markdown",
   "metadata": {},
   "source": [
    "group by key 和 reduce by key在底层的区别:\n",
    "    \n",
    "https://blog.csdn.net/sf_zhang26/article/details/72870930"
   ]
  },
  {
   "cell_type": "code",
   "execution_count": 67,
   "metadata": {},
   "outputs": [
    {
     "name": "stdout",
     "output_type": "stream",
     "text": [
      "hello...3\n",
      "you...1\n",
      "he...1\n",
      "me...1\n"
     ]
    }
   ],
   "source": [
    "retRDD = pairsRDD.reduceByKey((lambda x,y:x+y))\n",
    "for i in retRDD.collect():print(str(i[0])+\"...\"+str(i[1]))"
   ]
  },
  {
   "cell_type": "markdown",
   "metadata": {},
   "source": [
    "### 6.sortByKey"
   ]
  },
  {
   "cell_type": "code",
   "execution_count": 68,
   "metadata": {},
   "outputs": [
    {
     "data": {
      "text/plain": [
       "ParallelCollectionRDD[79] at parallelize at PythonRDD.scala:194"
      ]
     },
     "execution_count": 68,
     "metadata": {},
     "output_type": "execute_result"
    }
   ],
   "source": [
    "List=[\n",
    "    \"1,李  磊,22,175\",\n",
    "    \"2,刘银鹏,23,175\",\n",
    "    \"3,齐彦鹏,22,180\",\n",
    "     \"4,杨  柳,22,168\",\n",
    "     \"5,敦  鹏,20,175\"\n",
    "]\n",
    "listRDD= sc.parallelize(List)\n",
    "listRDD"
   ]
  },
  {
   "cell_type": "code",
   "execution_count": 69,
   "metadata": {},
   "outputs": [
    {
     "data": {
      "text/plain": [
       "PythonRDD[80] at RDD at PythonRDD.scala:52"
      ]
     },
     "execution_count": 69,
     "metadata": {},
     "output_type": "execute_result"
    }
   ],
   "source": [
    "heightRDD =listRDD.map(lambda x:(x.split(\",\")[3],x))\n",
    "heightRDD"
   ]
  },
  {
   "cell_type": "code",
   "execution_count": 70,
   "metadata": {},
   "outputs": [
    {
     "data": {
      "text/plain": [
       "[('175', '1,李  磊,22,175'),\n",
       " ('175', '2,刘银鹏,23,175'),\n",
       " ('180', '3,齐彦鹏,22,180'),\n",
       " ('168', '4,杨  柳,22,168'),\n",
       " ('175', '5,敦  鹏,20,175')]"
      ]
     },
     "execution_count": 70,
     "metadata": {},
     "output_type": "execute_result"
    }
   ],
   "source": [
    "heightRDD.collect()"
   ]
  },
  {
   "cell_type": "code",
   "execution_count": 71,
   "metadata": {},
   "outputs": [
    {
     "data": {
      "text/plain": [
       "PythonRDD[82] at RDD at PythonRDD.scala:52"
      ]
     },
     "execution_count": 71,
     "metadata": {},
     "output_type": "execute_result"
    }
   ],
   "source": [
    "retRDD=heightRDD.sortByKey(ascending = False, numPartitions = 1)   # 需要设置1个分区，否则只是各分区内有序\n",
    "retRDD"
   ]
  },
  {
   "cell_type": "code",
   "execution_count": 72,
   "metadata": {},
   "outputs": [
    {
     "name": "stdout",
     "output_type": "stream",
     "text": [
      "('180', '3,齐彦鹏,22,180')\n",
      "('175', '1,李  磊,22,175')\n",
      "('175', '2,刘银鹏,23,175')\n",
      "('175', '5,敦  鹏,20,175')\n",
      "('168', '4,杨  柳,22,168')\n"
     ]
    }
   ],
   "source": [
    "for i in retRDD.collect():print(i)"
   ]
  },
  {
   "cell_type": "markdown",
   "metadata": {},
   "source": [
    "### 6.combineByKey与aggregateByKey"
   ]
  },
  {
   "cell_type": "code",
   "execution_count": 73,
   "metadata": {},
   "outputs": [
    {
     "data": {
      "text/plain": [
       "PythonRDD[84] at RDD at PythonRDD.scala:52"
      ]
     },
     "execution_count": 73,
     "metadata": {},
     "output_type": "execute_result"
    }
   ],
   "source": [
    "List = [\"hello bo bo\", \"zhou xin xin\", \"hello song bo\"]\n",
    "lineRDD = sc.parallelize(List)\n",
    "wordsRDD = lineRDD.flatMap(lambda x:x.split(\" \"))\n",
    "pairsRDD = wordsRDD.map(lambda x: (x, 1))\n",
    "pairsRDD"
   ]
  },
  {
   "cell_type": "code",
   "execution_count": 74,
   "metadata": {},
   "outputs": [
    {
     "data": {
      "text/plain": [
       "[('hello', 1),\n",
       " ('bo', 1),\n",
       " ('bo', 1),\n",
       " ('zhou', 1),\n",
       " ('xin', 1),\n",
       " ('xin', 1),\n",
       " ('hello', 1),\n",
       " ('song', 1),\n",
       " ('bo', 1)]"
      ]
     },
     "execution_count": 74,
     "metadata": {},
     "output_type": "execute_result"
    }
   ],
   "source": [
    "pairsRDD.collect()"
   ]
  },
  {
   "cell_type": "markdown",
   "metadata": {},
   "source": [
    "主要有三个参数需要自己实现，分别是\n",
    "\n",
    "createCombiner：实现输入RDD[(K,V)]中V到结果RDD[(K,C)]中C的转换， V和C可能是相同类型，也可能是不同类型，它会创建一个元素列表。\n",
    "\n",
    "mergeValue：将V合并到C中，它会将当前值添加到元素列表的末尾。\n",
    "\n",
    "mergeCombiners：对mergeValue产生的C进一步合并，即是reduce操作，它会将两个C合并到一起。"
   ]
  },
  {
   "cell_type": "code",
   "execution_count": 75,
   "metadata": {},
   "outputs": [
    {
     "data": {
      "text/plain": [
       "[('hello', 2), ('bo', 3), ('song', 1), ('zhou', 1), ('xin', 2)]"
      ]
     },
     "execution_count": 75,
     "metadata": {},
     "output_type": "execute_result"
    }
   ],
   "source": [
    "createCombiner = (lambda x: x)\n",
    " \n",
    "mergeVal = (lambda x, y : x + y)\n",
    "mergeComb = (lambda x, y : x + y)\n",
    " \n",
    "retRDD=pairsRDD.combineByKey(createCombiner, mergeVal, mergeComb)\n",
    "retRDD.collect()"
   ]
  },
  {
   "cell_type": "markdown",
   "metadata": {},
   "source": [
    "combineByKey的处理流程如下：\n",
    "\n",
    "\n",
    "遍历RDD[(K,V)]中每一个元素\n",
    "\n",
    "\n",
    "1、如果当前K是一个新元素，使用createCombiner()创建K为键的累加器初始值，生成列表('hello', 1),('bo', 1)。\n",
    "\n",
    "\n",
    "2、如果当前K已经遇到过，使用mergeValue()将当前(K,V)合并进第1步生成的累加器列表,，\n",
    "\n",
    "      生成[('hello',(1)),('hello',(1)),('bo', 1),('bo', 1),('bo', 1),('song', 1), ('zhou', 1), ('xin', 1),('xin', 1)]\n",
    "\n",
    "      否则执行第1步\n",
    "      \n",
    "\n",
    "3、将相同键值的累加器进行合并，得到[('hello', 2), ('bo', 3), ('song', 1), ('zhou', 1), ('xin', 2)]\n",
    "\n",
    "\n",
    "因此得到如下结果：\n",
    "\n",
    "[('hello', 2), ('bo', 3), ('song', 1), ('zhou', 1), ('xin', 2)]\n"
   ]
  },
  {
   "cell_type": "code",
   "execution_count": 76,
   "metadata": {},
   "outputs": [
    {
     "data": {
      "text/plain": [
       "[('hello', 2), ('bo', 3), ('song', 1), ('zhou', 1), ('xin', 2)]"
      ]
     },
     "execution_count": 76,
     "metadata": {},
     "output_type": "execute_result"
    }
   ],
   "source": [
    "createCombiner = 0\n",
    " \n",
    "mergeVal = (lambda x, y : x + y)\n",
    "mergeComb = (lambda x, y : x + y)\n",
    " \n",
    "retRDD=pairsRDD.aggregateByKey(createCombiner, mergeVal, mergeComb)\n",
    "retRDD.collect()"
   ]
  },
  {
   "cell_type": "markdown",
   "metadata": {},
   "source": [
    "aggregate通过提供零值的方式，避免了combineByKey中的createCombiner步骤(createCombiner本质工作就是遇到第一个key时进行初始化操作，这个初始化不是提供零值，而是对第一个(k,v)进行转换得到c的初始值）。\n",
    "\n",
    "V和C不同类型的映射见:https://blog.csdn.net/hit0803107/article/details/52808986"
   ]
  },
  {
   "cell_type": "code",
   "execution_count": null,
   "metadata": {
    "collapsed": true
   },
   "outputs": [],
   "source": []
  }
 ],
 "metadata": {
  "kernelspec": {
   "display_name": "Python 3",
   "language": "python",
   "name": "python3"
  },
  "language_info": {
   "codemirror_mode": {
    "name": "ipython",
    "version": 3
   },
   "file_extension": ".py",
   "mimetype": "text/x-python",
   "name": "python",
   "nbconvert_exporter": "python",
   "pygments_lexer": "ipython3",
   "version": "3.6.2"
  }
 },
 "nbformat": 4,
 "nbformat_minor": 2
}
